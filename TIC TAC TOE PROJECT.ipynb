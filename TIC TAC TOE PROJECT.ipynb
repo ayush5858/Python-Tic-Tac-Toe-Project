{
 "cells": [
  {
   "cell_type": "markdown",
   "id": "8276929b",
   "metadata": {},
   "source": [
    "# Let's Play Tic Tac Toe."
   ]
  },
  {
   "cell_type": "code",
   "execution_count": 1,
   "id": "c195babf",
   "metadata": {},
   "outputs": [],
   "source": [
    "board = ['#','x','o','x','o','x','o','x','o','x']\n",
    "\n",
    "# Test Board"
   ]
  },
  {
   "cell_type": "code",
   "execution_count": 2,
   "id": "8e8f1961",
   "metadata": {},
   "outputs": [],
   "source": [
    "from IPython.display import clear_output\n",
    "\n",
    "def display_board(board):\n",
    "    clear_output()\n",
    "    \n",
    "    \n",
    "    print(board[1] + '   | ' + board[2] + '  | ' + board[3])\n",
    "    print('    |    |')\n",
    "    print('_____________')\n",
    "\n",
    "    print(board[4] + '   | ' + board[5] + '  | ' + board[6])\n",
    "    print('    |    |')\n",
    "    print('_____________')\n",
    "    \n",
    "    print(board[7] + '   | ' + board[8] + '  | ' + board[9])\n",
    "    print('    |    |')\n",
    "    \n",
    "   "
   ]
  },
  {
   "cell_type": "code",
   "execution_count": 3,
   "id": "6e9b39d7",
   "metadata": {},
   "outputs": [
    {
     "name": "stdout",
     "output_type": "stream",
     "text": [
      "x   | o  | x\n",
      "    |    |\n",
      "_____________\n",
      "o   | x  | o\n",
      "    |    |\n",
      "_____________\n",
      "x   | o  | x\n",
      "    |    |\n"
     ]
    }
   ],
   "source": [
    "display_board(board)"
   ]
  },
  {
   "cell_type": "code",
   "execution_count": 4,
   "id": "9c8dcbb1",
   "metadata": {},
   "outputs": [],
   "source": [
    "def player_input():\n",
    "    \n",
    "    marker = 'hu'\n",
    "    \n",
    "    while marker != 'o' and marker != 'x':\n",
    "        \n",
    "        # Assign to player1\n",
    "        \n",
    "        marker = input('Player1 : Choose x or o')\n",
    "    \n",
    "    player1 = marker\n",
    "        \n",
    "    \n",
    "    if player1 == 'x':\n",
    "        \n",
    "        player2 = 'o'\n",
    "        \n",
    "    else:\n",
    "        \n",
    "        player2 = 'x'\n",
    "            \n",
    "    return (player1,player2)\n",
    "    "
   ]
  },
  {
   "cell_type": "code",
   "execution_count": 5,
   "id": "e711f00d",
   "metadata": {},
   "outputs": [
    {
     "name": "stdout",
     "output_type": "stream",
     "text": [
      "Player1 : Choose x or oo\n"
     ]
    }
   ],
   "source": [
    "player1_marker,player2_marker = player_input()"
   ]
  },
  {
   "cell_type": "code",
   "execution_count": 6,
   "id": "f4e412bc",
   "metadata": {},
   "outputs": [
    {
     "data": {
      "text/plain": [
       "'o'"
      ]
     },
     "execution_count": 6,
     "metadata": {},
     "output_type": "execute_result"
    }
   ],
   "source": [
    "player1_marker"
   ]
  },
  {
   "cell_type": "code",
   "execution_count": 7,
   "id": "61ff4421",
   "metadata": {},
   "outputs": [
    {
     "data": {
      "text/plain": [
       "'x'"
      ]
     },
     "execution_count": 7,
     "metadata": {},
     "output_type": "execute_result"
    }
   ],
   "source": [
    "player2_marker"
   ]
  },
  {
   "cell_type": "code",
   "execution_count": 8,
   "id": "532d6930",
   "metadata": {},
   "outputs": [],
   "source": [
    "def place_marker(board,position,marker):\n",
    "    board[position] = marker\n",
    "    "
   ]
  },
  {
   "cell_type": "code",
   "execution_count": 9,
   "id": "4ff885ba",
   "metadata": {},
   "outputs": [],
   "source": [
    "place_marker(board,3,'$')"
   ]
  },
  {
   "cell_type": "code",
   "execution_count": 10,
   "id": "9df75ba3",
   "metadata": {},
   "outputs": [
    {
     "name": "stdout",
     "output_type": "stream",
     "text": [
      "x   | o  | $\n",
      "    |    |\n",
      "_____________\n",
      "o   | x  | o\n",
      "    |    |\n",
      "_____________\n",
      "x   | o  | x\n",
      "    |    |\n"
     ]
    }
   ],
   "source": [
    "display_board(board)"
   ]
  },
  {
   "cell_type": "code",
   "execution_count": 11,
   "id": "9aabf192",
   "metadata": {},
   "outputs": [],
   "source": [
    "def win_check(board,mark):\n",
    "    \n",
    "    # To check if someone wins\n",
    "    \n",
    "    return ((board[7] == mark and board[8] == mark and board[9] == mark) or # bottom\n",
    "    (board[4] == board[5] == board[6] == mark) or # middle\n",
    "    (board[1] == board[2] == board[3] == mark) or # top\n",
    "    (board[7] == board[4] == board[1] == mark) or # left\n",
    "    (board[8] == board[5] == board[2] == mark) or # middle\n",
    "    (board[9] == board[6] == board[3] == mark) or # right \n",
    "    (board[7] == board[5] == board[3] == mark) or # diagonal1\n",
    "    (board[9] == board[5] == board[1] == mark)) # diagonal2"
   ]
  },
  {
   "cell_type": "code",
   "execution_count": 12,
   "id": "b235d413",
   "metadata": {},
   "outputs": [
    {
     "data": {
      "text/plain": [
       "True"
      ]
     },
     "execution_count": 12,
     "metadata": {},
     "output_type": "execute_result"
    }
   ],
   "source": [
    "win_check(board,'x')"
   ]
  },
  {
   "cell_type": "code",
   "execution_count": 13,
   "id": "18b04d5b",
   "metadata": {},
   "outputs": [],
   "source": [
    "import random\n",
    "\n",
    "# Randomly decides which player goes first\n",
    "\n",
    "def choose_first():\n",
    "    if random.randint(0, 1) == 0:\n",
    "        return 'Player 2'\n",
    "    else:\n",
    "        return 'Player 1'"
   ]
  },
  {
   "cell_type": "code",
   "execution_count": 14,
   "id": "3bd84f55",
   "metadata": {},
   "outputs": [],
   "source": [
    "def space_check(board, position):\n",
    "    \n",
    "    # To check whether a space on the board is freely available\n",
    "    \n",
    "    return board[position] == ' '"
   ]
  },
  {
   "cell_type": "code",
   "execution_count": 15,
   "id": "226db419",
   "metadata": {},
   "outputs": [
    {
     "data": {
      "text/plain": [
       "False"
      ]
     },
     "execution_count": 15,
     "metadata": {},
     "output_type": "execute_result"
    }
   ],
   "source": [
    "space_check(board, 1)"
   ]
  },
  {
   "cell_type": "code",
   "execution_count": 16,
   "id": "f99c4fb5",
   "metadata": {},
   "outputs": [],
   "source": [
    "def full_board_check(board):\n",
    "    \n",
    "    # To check if the board is full \n",
    "    \n",
    "    for i in range(1,10):\n",
    "        if space_check(board, i):\n",
    "            return False\n",
    "    return True"
   ]
  },
  {
   "cell_type": "code",
   "execution_count": 17,
   "id": "a83ded3b",
   "metadata": {},
   "outputs": [],
   "source": [
    "def player_choice(board):\n",
    "    \n",
    "    # To ask for a player's next position \n",
    "    \n",
    "    position = 0\n",
    "    \n",
    "    while position not in [1,2,3,4,5,6,7,8,9] or not space_check(board, position):\n",
    "        position = int(input('Choose your next position: (1-9) '))\n",
    "        \n",
    "    return position"
   ]
  },
  {
   "cell_type": "code",
   "execution_count": 18,
   "id": "04620545",
   "metadata": {},
   "outputs": [],
   "source": [
    "def replay():\n",
    "    \n",
    "    return input('Do you want to play again? Enter Yes or No: ').lower().startswith('y')"
   ]
  },
  {
   "cell_type": "code",
   "execution_count": 19,
   "id": "6dc7b869",
   "metadata": {},
   "outputs": [
    {
     "name": "stdout",
     "output_type": "stream",
     "text": [
      "o   | x  |  \n",
      "    |    |\n",
      "_____________\n",
      "o   | x  |  \n",
      "    |    |\n",
      "_____________\n",
      "o   |    |  \n",
      "    |    |\n",
      "Congratulations! You have won the game!\n",
      "Do you want to play again? Enter Yes or No: n\n"
     ]
    }
   ],
   "source": [
    "print('Welcome to Tic Tac Toe!')\n",
    "\n",
    "while True:\n",
    "    # Reset the board\n",
    "    theBoard = [' '] * 10\n",
    "    player1_marker, player2_marker = player_input()\n",
    "    turn = choose_first()\n",
    "    print(turn + ' will go first.')\n",
    "    \n",
    "    play_game = input('Are you ready to play? Enter Yes or No.')\n",
    "    \n",
    "    if play_game.lower()[0] == 'y':\n",
    "        game_on = True\n",
    "    else:\n",
    "        game_on = False\n",
    "\n",
    "    while game_on:\n",
    "        if turn == 'Player 1':\n",
    "            # Player1's turn.\n",
    "            # Display the fresh new board\n",
    "            \n",
    "            display_board(theBoard)\n",
    "            \n",
    "            # Choose a position\n",
    "            \n",
    "            position = player_choice(theBoard)\n",
    "            \n",
    "            # Place the marker on the position\n",
    "            \n",
    "            place_marker(theBoard, position, player1_marker)\n",
    "            \n",
    "            # Check if they win and if its not win or tie and space is available then Player 2 turn\n",
    "\n",
    "            if win_check(theBoard, player1_marker):\n",
    "                display_board(theBoard)\n",
    "                print('Congratulations! You have won the game!')\n",
    "                game_on = False\n",
    "            else:\n",
    "                if full_board_check(theBoard):\n",
    "                    display_board(theBoard)\n",
    "                    print('The game is a draw!')\n",
    "                    break\n",
    "                else:\n",
    "                    turn = 'Player 2'\n",
    "\n",
    "        else:\n",
    "            # Player2's turn.\n",
    "            # Similar logic will go for Player 2\n",
    "            \n",
    "            display_board(theBoard)\n",
    "            position = player_choice(theBoard)\n",
    "            place_marker(theBoard, position, player2_marker)\n",
    "\n",
    "            if win_check(theBoard, player2_marker):\n",
    "                display_board(theBoard)\n",
    "                print('Player 2 has won!')\n",
    "                game_on = False\n",
    "            else:\n",
    "                if full_board_check(theBoard):\n",
    "                    display_board(theBoard)\n",
    "                    print('The game is a draw!')\n",
    "                    break\n",
    "                else:\n",
    "                    turn = 'Player 1'\n",
    "\n",
    "    if not replay():\n",
    "        break"
   ]
  },
  {
   "cell_type": "markdown",
   "id": "f436a913",
   "metadata": {},
   "source": [
    "# Hope you enjoyed the game. Thanks for playing."
   ]
  },
  {
   "cell_type": "code",
   "execution_count": null,
   "id": "8c855712",
   "metadata": {},
   "outputs": [],
   "source": []
  }
 ],
 "metadata": {
  "kernelspec": {
   "display_name": "Python 3 (ipykernel)",
   "language": "python",
   "name": "python3"
  },
  "language_info": {
   "codemirror_mode": {
    "name": "ipython",
    "version": 3
   },
   "file_extension": ".py",
   "mimetype": "text/x-python",
   "name": "python",
   "nbconvert_exporter": "python",
   "pygments_lexer": "ipython3",
   "version": "3.9.7"
  }
 },
 "nbformat": 4,
 "nbformat_minor": 5
}
